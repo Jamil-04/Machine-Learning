{
  "nbformat": 4,
  "nbformat_minor": 0,
  "metadata": {
    "colab": {
      "provenance": []
    },
    "kernelspec": {
      "name": "python3",
      "display_name": "Python 3"
    },
    "language_info": {
      "name": "python"
    }
  },
  "cells": [
    {
      "cell_type": "code",
      "execution_count": 20,
      "metadata": {
        "colab": {
          "base_uri": "https://localhost:8080/"
        },
        "id": "CNjSzXladI9E",
        "outputId": "b12d7183-1580-4cc3-86f2-baa670aa4153"
      },
      "outputs": [
        {
          "output_type": "stream",
          "name": "stdout",
          "text": [
            "Drive already mounted at /content/drive; to attempt to forcibly remount, call drive.mount(\"/content/drive\", force_remount=True).\n"
          ]
        }
      ],
      "source": [
        "# STEP 1: Mount Google Drive\n",
        "from google.colab import drive\n",
        "drive.mount('/content/drive')"
      ]
    },
    {
      "cell_type": "code",
      "source": [
        "# STEP 1: Load Dataset\n",
        "import pandas as pd\n",
        "\n",
        "# Load dataset\n",
        "file_path = \"/content/drive/MyDrive/Dataset/MaterialStrength.csv\"  # Sesuaikan path jika diperlukan\n",
        "data = pd.read_csv(file_path)\n",
        "\n",
        "# Tampilkan informasi dataset\n",
        "print(\"Dataset Loaded Successfully!\")\n",
        "print(data.head())"
      ],
      "metadata": {
        "colab": {
          "base_uri": "https://localhost:8080/"
        },
        "id": "GWOTb6qnd3Sv",
        "outputId": "c9d2c7fb-9160-498d-cc89-9aa59e10f61b"
      },
      "execution_count": 21,
      "outputs": [
        {
          "output_type": "stream",
          "name": "stdout",
          "text": [
            "Dataset Loaded Successfully!\n",
            "      x1     x2   x3     x4   x5      x6     x7   x8        x9    x10  \\\n",
            "0  540.0    0.0  0.0  162.0  2.5  1040.0  676.0   28  0.300000  540.0   \n",
            "1  540.0    0.0  0.0  162.0  2.5  1055.0  676.0   28  0.300000  540.0   \n",
            "2  332.5  142.5  0.0  228.0  0.0   932.0  594.0  270  0.685714  475.0   \n",
            "3  332.5  142.5  0.0  228.0  0.0   932.0  594.0  365  0.685714  475.0   \n",
            "4  198.6  132.4  0.0  192.0  0.0   978.4  825.5  360  0.966767  331.0   \n",
            "\n",
            "        x11  x12       x13  x14  x15  target_feature  \n",
            "0  1.538462    1  0.350044  YEs   NO           79.99  \n",
            "1  1.560651    1  0.452416  yES  nOO           61.89  \n",
            "2  1.569024    0  6.704743  yEs   NO           40.27  \n",
            "3  1.569024    0  8.891596  yes  NOO           41.05  \n",
            "4  1.185221    0  8.126411  YeS   no           44.30  \n"
          ]
        }
      ]
    },
    {
      "cell_type": "code",
      "source": [
        "# STEP 2: Explorasi Data\n",
        "print(\"Dataset Info:\")\n",
        "print(data.info())\n",
        "\n",
        "print(\"\\nDeskripsi Statistik:\")\n",
        "print(data.describe())\n",
        "\n",
        "# Memeriksa missing values\n",
        "print(\"\\nJumlah Missing Values per Kolom:\")\n",
        "print(data.isnull().sum())"
      ],
      "metadata": {
        "colab": {
          "base_uri": "https://localhost:8080/"
        },
        "id": "7F2zloI_d88d",
        "outputId": "1b5bb311-16d8-4f12-d191-abe0a6ce2d6c"
      },
      "execution_count": 22,
      "outputs": [
        {
          "output_type": "stream",
          "name": "stdout",
          "text": [
            "Dataset Info:\n",
            "<class 'pandas.core.frame.DataFrame'>\n",
            "RangeIndex: 1030 entries, 0 to 1029\n",
            "Data columns (total 16 columns):\n",
            " #   Column          Non-Null Count  Dtype  \n",
            "---  ------          --------------  -----  \n",
            " 0   x1              1030 non-null   float64\n",
            " 1   x2              1030 non-null   float64\n",
            " 2   x3              1030 non-null   float64\n",
            " 3   x4              1030 non-null   float64\n",
            " 4   x5              1030 non-null   float64\n",
            " 5   x6              1030 non-null   float64\n",
            " 6   x7              1030 non-null   float64\n",
            " 7   x8              1030 non-null   int64  \n",
            " 8   x9              1030 non-null   float64\n",
            " 9   x10             1030 non-null   float64\n",
            " 10  x11             1030 non-null   float64\n",
            " 11  x12             1030 non-null   int64  \n",
            " 12  x13             1030 non-null   float64\n",
            " 13  x14             1030 non-null   object \n",
            " 14  x15             1030 non-null   object \n",
            " 15  target_feature  1030 non-null   float64\n",
            "dtypes: float64(12), int64(2), object(2)\n",
            "memory usage: 128.9+ KB\n",
            "None\n",
            "\n",
            "Deskripsi Statistik:\n",
            "                x1           x2           x3           x4           x5  \\\n",
            "count  1030.000000  1030.000000  1030.000000  1030.000000  1030.000000   \n",
            "mean    281.167864    73.895825    54.188350   181.567282     6.204660   \n",
            "std     104.506364    86.279342    63.997004    21.354219     5.973841   \n",
            "min     102.000000     0.000000     0.000000   121.800000     0.000000   \n",
            "25%     192.375000     0.000000     0.000000   164.900000     0.000000   \n",
            "50%     272.900000    22.000000     0.000000   185.000000     6.400000   \n",
            "75%     350.000000   142.950000   118.300000   192.000000    10.200000   \n",
            "max     540.000000   359.400000   200.100000   247.000000    32.200000   \n",
            "\n",
            "                x6           x7           x8           x9          x10  \\\n",
            "count  1030.000000  1030.000000  1030.000000  1030.000000  1030.000000   \n",
            "mean    972.918932   773.580485    45.662136     0.748266   409.252039   \n",
            "std      77.753954    80.175980    63.169912     0.314005    92.780669   \n",
            "min     801.000000   594.000000     1.000000     0.266893   200.000000   \n",
            "25%     932.000000   730.950000     7.000000     0.533333   336.425000   \n",
            "50%     968.000000   779.500000    28.000000     0.675349   391.300000   \n",
            "75%    1029.400000   824.000000    56.000000     0.935165   483.700000   \n",
            "max    1145.000000   992.600000   365.000000     1.882353   640.000000   \n",
            "\n",
            "               x11          x12          x13  target_feature  \n",
            "count  1030.000000  1030.000000  1030.000000     1030.000000  \n",
            "mean      1.273752     0.632039     1.213469       35.817961  \n",
            "std       0.185670     0.482485     1.521690       16.705742  \n",
            "min       0.858453     0.000000     0.072046        2.330000  \n",
            "25%       1.121488     0.000000     0.443705       23.710000  \n",
            "50%       1.266055     1.000000     0.767702       34.445000  \n",
            "75%       1.358146     1.000000     1.331512       46.135000  \n",
            "max       1.874876     1.000000    14.553429       82.600000  \n",
            "\n",
            "Jumlah Missing Values per Kolom:\n",
            "x1                0\n",
            "x2                0\n",
            "x3                0\n",
            "x4                0\n",
            "x5                0\n",
            "x6                0\n",
            "x7                0\n",
            "x8                0\n",
            "x9                0\n",
            "x10               0\n",
            "x11               0\n",
            "x12               0\n",
            "x13               0\n",
            "x14               0\n",
            "x15               0\n",
            "target_feature    0\n",
            "dtype: int64\n"
          ]
        }
      ]
    },
    {
      "cell_type": "code",
      "source": [
        "# STEP 3: Pra-pemrosesan Data\n",
        "from sklearn.model_selection import train_test_split\n",
        "\n",
        "# Memisahkan fitur (X) dan label (y)\n",
        "X = data.drop('target_feature', axis=1)  # Ganti 'target_feature' dengan nama kolom label pada dataset\n",
        "y = data['target_feature']\n",
        "\n",
        "# Konversi kolom kategorikal menjadi numerik (One-Hot Encoding)\n",
        "X = pd.get_dummies(X, drop_first=True)\n",
        "\n",
        "# Split data menjadi data latih dan uji\n",
        "X_train, X_test, y_train, y_test = train_test_split(X, y, test_size=0.2, random_state=42)\n",
        "print(f\"Training Data: {X_train.shape}, Testing Data: {X_test.shape}\")\n",
        "# Konversi target menjadi kategori (binarisasi, misalnya > median = 1, lainnya = 0)\n",
        "y = (y > y.median()).astype(int)  # Mengubah target menjadi 0 dan 1 berdasarkan median\n"
      ],
      "metadata": {
        "colab": {
          "base_uri": "https://localhost:8080/"
        },
        "id": "zoIBDNjgd_r9",
        "outputId": "c8587799-cde7-4269-8369-1045d98e4343"
      },
      "execution_count": 23,
      "outputs": [
        {
          "output_type": "stream",
          "name": "stdout",
          "text": [
            "Training Data: (824, 27), Testing Data: (206, 27)\n"
          ]
        }
      ]
    },
    {
      "cell_type": "code",
      "source": [
        "# Menggunakan SVR untuk regresi\n",
        "from sklearn.svm import SVR\n",
        "\n",
        "# Inisialisasi model SVR\n",
        "model = SVR(kernel='linear')\n",
        "\n",
        "# Latih model\n",
        "model.fit(X_train, y_train)\n",
        "\n",
        "# Prediksi pada data uji\n",
        "y_pred = model.predict(X_test)\n",
        "\n",
        "# Evaluasi menggunakan metrik regresi (misalnya Mean Squared Error, R^2)\n",
        "from sklearn.metrics import mean_squared_error, r2_score\n",
        "\n",
        "mse = mean_squared_error(y_test, y_pred)\n",
        "r2 = r2_score(y_test, y_pred)\n",
        "\n",
        "print(f\"Mean Squared Error: {mse:.2f}\")\n",
        "print(f\"R^2 Score: {r2:.2f}\")\n"
      ],
      "metadata": {
        "colab": {
          "base_uri": "https://localhost:8080/"
        },
        "id": "gNUbQA2xeNgO",
        "outputId": "ef81a156-a8c4-488d-e0d5-11261a216492"
      },
      "execution_count": 24,
      "outputs": [
        {
          "output_type": "stream",
          "name": "stdout",
          "text": [
            "Mean Squared Error: 94.38\n",
            "R^2 Score: 0.63\n"
          ]
        }
      ]
    },
    {
      "cell_type": "code",
      "source": [
        "# Menggunakan SVR untuk regresi\n",
        "from sklearn.svm import SVR\n",
        "from sklearn.metrics import (\n",
        "    mean_squared_error, r2_score, accuracy_score,\n",
        "    precision_score, recall_score, f1_score, roc_auc_score, roc_curve, confusion_matrix\n",
        ")\n",
        "import matplotlib.pyplot as plt\n",
        "import seaborn as sns\n",
        "import numpy as np\n",
        "\n",
        "# Inisialisasi model SVR\n",
        "model = SVR(kernel='linear')\n",
        "\n",
        "# Latih model\n",
        "model.fit(X_train, y_train)\n",
        "\n",
        "# Prediksi pada data uji\n",
        "y_pred = model.predict(X_test)\n",
        "\n",
        "# 1. Evaluasi untuk regresi\n",
        "mse = mean_squared_error(y_test, y_pred)\n",
        "r2 = r2_score(y_test, y_pred)\n",
        "\n",
        "print(f\"=== Evaluasi Regresi ===\")\n",
        "print(f\"Mean Squared Error: {mse:.2f}\")\n",
        "print(f\"R^2 Score: {r2:.2f}\")\n",
        "\n",
        "# 2. Konversi ke klasifikasi (threshold median)\n",
        "threshold = y_test.median()\n",
        "y_test_class = (y_test > threshold).astype(int)\n",
        "y_pred_class = (y_pred > threshold).astype(int)\n",
        "\n",
        "# Evaluasi untuk klasifikasi\n",
        "accuracy = accuracy_score(y_test_class, y_pred_class)\n",
        "precision = precision_score(y_test_class, y_pred_class)\n",
        "recall = recall_score(y_test_class, y_pred_class)\n",
        "f1 = f1_score(y_test_class, y_pred_class)\n",
        "\n",
        "print(f\"\\n=== Evaluasi Klasifikasi ===\")\n",
        "print(f\"Accuracy: {accuracy:.2f}\")\n",
        "print(f\"Precision: {precision:.2f}\")\n",
        "print(f\"Recall: {recall:.2f}\")\n",
        "print(f\"F1 Score: {f1:.2f}\")\n",
        "\n",
        "# 3. ROC Curve dan AUC\n",
        "y_proba = (y_pred - y_pred.min()) / (y_pred.max() - y_pred.min())  # Normalisasi ke [0, 1]\n",
        "auc = roc_auc_score(y_test_class, y_proba)\n",
        "\n",
        "fpr, tpr, thresholds = roc_curve(y_test_class, y_proba)\n",
        "plt.figure(figsize=(8, 6))\n",
        "plt.plot(fpr, tpr, label=f\"AUC = {auc:.2f}\")\n",
        "plt.plot([0, 1], [0, 1], 'r--')  # Garis diagonal\n",
        "plt.xlabel(\"False Positive Rate\")\n",
        "plt.ylabel(\"True Positive Rate\")\n",
        "plt.title(\"ROC Curve\")\n",
        "plt.legend()\n",
        "plt.show()\n",
        "\n",
        "# 4. Confusion Matrix\n",
        "cm = confusion_matrix(y_test_class, y_pred_class)\n",
        "plt.figure(figsize=(8, 6))\n",
        "sns.heatmap(cm, annot=True, fmt='d', cmap='Blues', xticklabels=[\"Class 0\", \"Class 1\"], yticklabels=[\"Class 0\", \"Class 1\"])\n",
        "plt.xlabel(\"Predicted\")\n",
        "plt.ylabel(\"Actual\")\n",
        "plt.title(\"Confusion Matrix\")\n",
        "plt.show()\n"
      ],
      "metadata": {
        "colab": {
          "base_uri": "https://localhost:8080/",
          "height": 1000
        },
        "id": "aqnVTdIufND_",
        "outputId": "aca4abae-e629-4091-a617-47ca3e4f9621"
      },
      "execution_count": 28,
      "outputs": [
        {
          "output_type": "stream",
          "name": "stdout",
          "text": [
            "=== Evaluasi Regresi ===\n",
            "Mean Squared Error: 94.38\n",
            "R^2 Score: 0.63\n",
            "\n",
            "=== Evaluasi Klasifikasi ===\n",
            "Accuracy: 0.89\n",
            "Precision: 0.88\n",
            "Recall: 0.89\n",
            "F1 Score: 0.89\n"
          ]
        },
        {
          "output_type": "display_data",
          "data": {
            "text/plain": [
              "<Figure size 800x600 with 1 Axes>"
            ],
            "image/png": "[encoded data removed]"
          },
          "metadata": {}
        },
        {
          "output_type": "display_data",
          "data": {
            "text/plain": [
              "<Figure size 800x600 with 2 Axes>"
            ],
            "image/png": "[encoded data removed]"
          },
          "metadata": {}
        }
      ]
    }
  ]
}